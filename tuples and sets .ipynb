{
 "cells": [
  {
   "cell_type": "markdown",
   "id": "766877fb",
   "metadata": {},
   "source": [
    "tuples and sets"
   ]
  },
  {
   "cell_type": "code",
   "execution_count": null,
   "id": "0d7e8f0d",
   "metadata": {},
   "outputs": [],
   "source": [
    "#lists are mutable whereas tuples are immutable\n"
   ]
  },
  {
   "cell_type": "code",
   "execution_count": 3,
   "id": "d133c970",
   "metadata": {
    "scrolled": true
   },
   "outputs": [
    {
     "name": "stdout",
     "output_type": "stream",
     "text": [
      "['cse', 'aiml', 'civil']\n",
      "['mech', 'aiml', 'civil']\n",
      "['mech', 'aiml', 'civil']\n",
      "('cse', 'aiml', 'civil')\n"
     ]
    },
    {
     "ename": "TypeError",
     "evalue": "'tuple' object does not support item assignment",
     "output_type": "error",
     "traceback": [
      "\u001b[0;31m---------------------------------------------------------------------------\u001b[0m",
      "\u001b[0;31mTypeError\u001b[0m                                 Traceback (most recent call last)",
      "Cell \u001b[0;32mIn[3], line 21\u001b[0m\n\u001b[1;32m     19\u001b[0m tuple_2\u001b[38;5;241m=\u001b[39mtuple_1\n\u001b[1;32m     20\u001b[0m \u001b[38;5;28mprint\u001b[39m(tuple_2)\n\u001b[0;32m---> 21\u001b[0m tuple_1[\u001b[38;5;241m0\u001b[39m]\u001b[38;5;241m=\u001b[39m\u001b[38;5;124m'\u001b[39m\u001b[38;5;124mmech\u001b[39m\u001b[38;5;124m'\u001b[39m\n\u001b[1;32m     22\u001b[0m \u001b[38;5;28mprint\u001b[39m(tuple_1)\n\u001b[1;32m     23\u001b[0m \u001b[38;5;28mprint\u001b[39m(tuple_2)\n",
      "\u001b[0;31mTypeError\u001b[0m: 'tuple' object does not support item assignment"
     ]
    }
   ],
   "source": [
    "#lets see the difference and the problem \n",
    "\n",
    "#lists(mutable)\n",
    "\n",
    "list_1=['cse','aiml','civil']\n",
    "list_2=list_1\n",
    "print(list_2)\n",
    "\n",
    "#now if we can to change the value of list_1 but we dont want to chnage the value of list_2\n",
    "list_1[0]='mech'\n",
    "print(list_1)\n",
    "print(list_2)\n",
    "#we can see with change in list 1 ,the value of list 2 is also modified \n",
    "\n",
    "#tuples(immutable)\n",
    "tuple_1=('cse','aiml','civil')\n",
    "tuple_2=tuple_1\n",
    "print(tuple_2)\n",
    "tuple_1[0]='mech'\n",
    "print(tuple_1)\n",
    "print(tuple_2)\n",
    "\n",
    "#we can see the error is given which means it is immutable"
   ]
  },
  {
   "cell_type": "code",
   "execution_count": null,
   "id": "eb24a06a",
   "metadata": {},
   "outputs": [],
   "source": [
    "#we cant append , delete ,it has just few values \n",
    "#if we need something which can modified we can use list ,if not modified than we can use tuples "
   ]
  },
  {
   "cell_type": "markdown",
   "id": "51b3635c",
   "metadata": {},
   "source": [
    "sets \n",
    "\n"
   ]
  },
  {
   "cell_type": "code",
   "execution_count": 9,
   "id": "dbf35cb1",
   "metadata": {},
   "outputs": [
    {
     "name": "stdout",
     "output_type": "stream",
     "text": [
      "{'ece', 'cse', 'mech', 'aiml', 'civil'}\n",
      "{'ece', 'cse', 'mech', 'aiml', 'civil'}\n"
     ]
    }
   ],
   "source": [
    "#sets are values that are unordered and also doesnt have any duplicates \n",
    "\n",
    "sets={'cse','aiml','civil','mech','ece'}\n",
    "print(sets)#we can see the values are given in random order \n",
    "\n",
    "sets={'cse','aiml','civil','mech','ece','cse','aiml'}\n",
    "print(sets)#we can see that even thought we gave it duplicate values but it still provides the same list as it eliminates the duplicates"
   ]
  },
  {
   "cell_type": "code",
   "execution_count": 13,
   "id": "c4035ca7",
   "metadata": {},
   "outputs": [
    {
     "name": "stdout",
     "output_type": "stream",
     "text": [
      "{'cse', 'aiml'}\n",
      "{'ece', 'mech', 'civil'}\n",
      "{'ece', 'cse', 'chem', 'mech', 'art', 'aiml', 'civil'}\n"
     ]
    }
   ],
   "source": [
    "#sets are mainly used to find what values are present or not in another sets i.e,comparing\n",
    "#methods for sets \n",
    "sets_1={'cse','aiml','civil','mech','ece'}\n",
    "sets_2={'cse','aiml','chem','art'}\n",
    "print(sets_1.intersection(sets_2))#intersection methods gives us the value which are in common in both sets\n",
    "print(sets_1.difference(sets_2))#difference methods gives us the value which are not in common in both sets\n",
    "print(sets_1.union(sets_2))#union methods gives us the combination of both sets with eliminating duplicates\n"
   ]
  },
  {
   "cell_type": "code",
   "execution_count": null,
   "id": "28230afc",
   "metadata": {},
   "outputs": [],
   "source": [
    "#note \n",
    "\n",
    "#empty list\n",
    "empty_list=[]\n",
    "empty_list=list()\n",
    "\n",
    "#empty tuples\n",
    "empty_tuple=()\n",
    "empty_tuple=tuple()\n",
    "\n",
    "#empty sets\n",
    "empty_set={}#this isnt right ! its a dict\n",
    "empty_set=set()"
   ]
  }
 ],
 "metadata": {
  "kernelspec": {
   "display_name": "Python 3 (ipykernel)",
   "language": "python",
   "name": "python3"
  },
  "language_info": {
   "codemirror_mode": {
    "name": "ipython",
    "version": 3
   },
   "file_extension": ".py",
   "mimetype": "text/x-python",
   "name": "python",
   "nbconvert_exporter": "python",
   "pygments_lexer": "ipython3",
   "version": "3.11.4"
  }
 },
 "nbformat": 4,
 "nbformat_minor": 5
}
