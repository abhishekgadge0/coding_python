{
 "cells": [
  {
   "cell_type": "markdown",
   "id": "1bbf0f8d",
   "metadata": {},
   "source": [
    "date- 01/12/2023"
   ]
  },
  {
   "cell_type": "markdown",
   "id": "77db9910",
   "metadata": {},
   "source": [
    "lists ,tuples and sets "
   ]
  },
  {
   "cell_type": "code",
   "execution_count": null,
   "id": "2f08b19f",
   "metadata": {},
   "outputs": [],
   "source": [
    "#lists "
   ]
  },
  {
   "cell_type": "code",
   "execution_count": 1,
   "id": "8265d8e7",
   "metadata": {},
   "outputs": [
    {
     "name": "stdout",
     "output_type": "stream",
     "text": [
      "3\n"
     ]
    }
   ],
   "source": [
    "courses='cse'\n",
    "print(len(courses))"
   ]
  },
  {
   "cell_type": "code",
   "execution_count": 2,
   "id": "eb60ca79",
   "metadata": {},
   "outputs": [
    {
     "name": "stdout",
     "output_type": "stream",
     "text": [
      "4\n"
     ]
    }
   ],
   "source": [
    "courses=['cse','aiml','civil','mech']\n",
    "print(len(courses))"
   ]
  },
  {
   "cell_type": "code",
   "execution_count": 6,
   "id": "7a106ac7",
   "metadata": {},
   "outputs": [
    {
     "name": "stdout",
     "output_type": "stream",
     "text": [
      "3\n",
      "cse\n",
      "mech\n"
     ]
    }
   ],
   "source": [
    "#to access the value of a particular char of our list \n",
    "courses=['cse','aiml','mech']\n",
    "print(len(courses[0]))         \n",
    "\n",
    "#to access the value of our list \n",
    "courses=['cse','aiml','mech']\n",
    "print(courses[0])  \n",
    "\n",
    "#for getting last item in list\n",
    "courses=['cse','aiml','mech']\n",
    "print(courses[-1])"
   ]
  },
  {
   "cell_type": "code",
   "execution_count": 7,
   "id": "730acfc8",
   "metadata": {},
   "outputs": [
    {
     "ename": "IndexError",
     "evalue": "list index out of range",
     "output_type": "error",
     "traceback": [
      "\u001b[0;31m---------------------------------------------------------------------------\u001b[0m",
      "\u001b[0;31mIndexError\u001b[0m                                Traceback (most recent call last)",
      "Cell \u001b[0;32mIn[7], line 3\u001b[0m\n\u001b[1;32m      1\u001b[0m \u001b[38;5;66;03m#if we try to access the index that is not present in the list it gives us a index error \u001b[39;00m\n\u001b[1;32m      2\u001b[0m courses\u001b[38;5;241m=\u001b[39m[\u001b[38;5;124m'\u001b[39m\u001b[38;5;124mcse\u001b[39m\u001b[38;5;124m'\u001b[39m,\u001b[38;5;124m'\u001b[39m\u001b[38;5;124maiml\u001b[39m\u001b[38;5;124m'\u001b[39m,\u001b[38;5;124m'\u001b[39m\u001b[38;5;124mece\u001b[39m\u001b[38;5;124m'\u001b[39m]\n\u001b[0;32m----> 3\u001b[0m \u001b[38;5;28mprint\u001b[39m(courses[\u001b[38;5;241m-\u001b[39m\u001b[38;5;241m4\u001b[39m])\n",
      "\u001b[0;31mIndexError\u001b[0m: list index out of range"
     ]
    }
   ],
   "source": [
    "#if we try to access the index that is not present in the list it gives us a index error \n",
    "courses=['cse','aiml','ece']\n",
    "print(courses[-4])"
   ]
  },
  {
   "cell_type": "code",
   "execution_count": 5,
   "id": "41c17ccb",
   "metadata": {},
   "outputs": [
    {
     "name": "stdout",
     "output_type": "stream",
     "text": [
      "['cse', 'aiml']\n",
      "['cse', 'aiml']\n",
      "['cse', 'aiml', 'mech']\n",
      "['aiml', 'mech']\n"
     ]
    }
   ],
   "source": [
    "#for accessing a range of values \n",
    "#also knows as slicing \n",
    "courses = ['cse','aiml','mech']\n",
    "print(courses[0:2])\n",
    "\n",
    "courses = ['cse','aiml','mech']\n",
    "print(courses[:2])\n",
    "\n",
    "courses = ['cse','aiml','mech']\n",
    "print(courses[0:])\n",
    "\n",
    "courses = ['cse','aiml','mech']\n",
    "print(courses[1:3])"
   ]
  },
  {
   "cell_type": "code",
   "execution_count": 7,
   "id": "951bcb03",
   "metadata": {},
   "outputs": [
    {
     "name": "stdout",
     "output_type": "stream",
     "text": [
      "None\n"
     ]
    }
   ],
   "source": [
    "#lists methods for modifing lists \n",
    "#adding a item to the list \n",
    "courses = ['cse','aiml','mech']\n",
    "print(courses.append('art'))#we cant use the methods of list within print statement \n"
   ]
  },
  {
   "cell_type": "code",
   "execution_count": 17,
   "id": "7b99b5a5",
   "metadata": {},
   "outputs": [
    {
     "name": "stdout",
     "output_type": "stream",
     "text": [
      "['cse', 'aiml', 'mech', 'civil']\n",
      "['cse', 'civil', 'aiml', 'mech']\n",
      "['cse', 'civil', 'aiml', 'mech', 'civil', 'ece']\n",
      "['cse', 'civil', 'aiml', 'mech', 'civil', 'ece', ['civil', 'ece']]\n",
      "['cse', ['civil', 'ece'], 'civil', 'aiml', 'mech', 'civil', 'ece', ['civil', 'ece']]\n"
     ]
    }
   ],
   "source": [
    "#to solve this problem we can \n",
    "courses = ['cse','aiml','mech']\n",
    "courses.append('civil') #append method is used to add an simple item to the list as the last item\n",
    "print(courses) \n",
    "\n",
    "courses = ['cse','aiml','mech']\n",
    "courses.insert(1,'civil') #insert method is used to add the item at a particular index \n",
    "print(courses) \n",
    "\n",
    "courses_0 = ['cse','aiml','mech']\n",
    "courses_1 = ['civil','ece']\n",
    "courses.extend(courses_1) #extend method is used to add a group of items from one list to the another \n",
    "print(courses) \n",
    "\n",
    "#we cant use insert or append here as it adds the total list to the another \n",
    "courses_0 = ['cse','aiml','mech']\n",
    "courses_1 = ['civil','ece']\n",
    "courses.append(courses_1) \n",
    "print(courses)\n",
    "\n",
    "courses_0 = ['cse','aiml','mech']\n",
    "courses_1 = ['civil','ece']\n",
    "courses.insert(1,courses_1) \n",
    "print(courses)\n"
   ]
  },
  {
   "cell_type": "code",
   "execution_count": 22,
   "id": "980db514",
   "metadata": {},
   "outputs": [
    {
     "name": "stdout",
     "output_type": "stream",
     "text": [
      "['cse', 'mech']\n",
      "['cse', 'aiml']\n"
     ]
    }
   ],
   "source": [
    "#for removing an item from the list \n",
    "courses = ['cse','aiml','mech']\n",
    "courses.remove('aiml') #remove method removes the item given \n",
    "print(courses) \n",
    "\n",
    "courses = ['cse','aiml','mech']\n",
    "courses.pop() #pop method removes the last item from the list it is specially used in stacks \n",
    "print(courses) "
   ]
  },
  {
   "cell_type": "code",
   "execution_count": 23,
   "id": "8e28edba",
   "metadata": {},
   "outputs": [
    {
     "name": "stdout",
     "output_type": "stream",
     "text": [
      "['mech', 'cse', 'aiml']\n"
     ]
    }
   ],
   "source": [
    "#to sort the list in the reverse order \n",
    "courses=['aiml','cse','mech']\n",
    "courses.reverse() # reverse method reverses the list \n",
    "print(courses)"
   ]
  },
  {
   "cell_type": "code",
   "execution_count": 26,
   "id": "dfcc7ce1",
   "metadata": {},
   "outputs": [
    {
     "name": "stdout",
     "output_type": "stream",
     "text": [
      "['aiml', 'cse', 'mech']\n",
      "[3, 5, 6, 7, 9, 12]\n"
     ]
    }
   ],
   "source": [
    "#for sorting the list\n",
    "courses=['aiml','cse','mech']\n",
    "courses.sort() # sort methods sorts the strings in alphabetically\n",
    "print(courses)\n",
    "\n",
    "#for numbers \n",
    "courses=[5,3,6,7,9,12]\n",
    "courses.sort() # sort methods sorts the number in ascending method \n",
    "print(courses)"
   ]
  },
  {
   "cell_type": "code",
   "execution_count": 31,
   "id": "3973b9e0",
   "metadata": {
    "scrolled": true
   },
   "outputs": [
    {
     "name": "stdout",
     "output_type": "stream",
     "text": [
      "['mech', 'cse', 'aiml']\n",
      "[12, 9, 7, 6, 5, 3]\n",
      "['mech', 'cse', 'aiml']\n",
      "[12, 9, 7, 6, 5, 3]\n"
     ]
    }
   ],
   "source": [
    "#if we want the sorted list descending order \n",
    "#method 1 (lesser logical)\n",
    "courses=['aiml','cse','mech']\n",
    "courses.sort() \n",
    "courses.reverse()\n",
    "print(courses)\n",
    "\n",
    "courses=[5,3,6,7,9,12]\n",
    "courses.sort() \n",
    "courses.reverse()\n",
    "print(courses)\n",
    "\n",
    "#by using the reverse method after the sort method is an simple and traditional approach \n",
    "\n",
    "#method 2 (professional method)\n",
    "#we can use reverse method in the argument of the sort method \n",
    "courses=['aiml','cse','mech']\n",
    "courses.sort(reverse=True) \n",
    "print(courses)\n",
    "\n",
    "courses=[5,3,6,7,9,12]\n",
    "courses.sort(reverse=True) \n",
    "print(courses)"
   ]
  },
  {
   "cell_type": "code",
   "execution_count": 39,
   "id": "1f8788fa",
   "metadata": {},
   "outputs": [
    {
     "name": "stdout",
     "output_type": "stream",
     "text": [
      "['aiml', 'cse', 'ece', 'mech']\n",
      "['aiml', 'cse', 'ece', 'mech']\n",
      "['mech', 'ece', 'cse', 'aiml']\n"
     ]
    }
   ],
   "source": [
    "#to sort the list without changing the inital variable\n",
    "courses=['aiml','ece','mech','cse']\n",
    "courses.sort() \n",
    "new_courses=courses\n",
    "print(new_courses)\n",
    "\n",
    "# we can see here the the inital courses variable is changed ,to solve this problem we should use a sort funt \n",
    "courses=['aiml','ece','mech','cse']\n",
    "new_courses=sorted(courses)#we can see the value of courses is not changed\n",
    "print(new_courses)\n",
    "\n",
    "# to get in the reverse order\n",
    "courses=['aiml','ece','mech','cse']\n",
    "new_courses=sorted(courses)#we can't use the reverse method inside as it gives error \n",
    "new_courses.reverse()#we can use the sort by using reverse method after creating new variable \n",
    "print(new_courses)"
   ]
  },
  {
   "cell_type": "code",
   "execution_count": 45,
   "id": "2dc10daf",
   "metadata": {},
   "outputs": [
    {
     "name": "stdout",
     "output_type": "stream",
     "text": [
      "1\n",
      "13\n",
      "29\n",
      "aiml\n",
      "mech\n"
     ]
    },
    {
     "ename": "TypeError",
     "evalue": "unsupported operand type(s) for +: 'int' and 'str'",
     "output_type": "error",
     "traceback": [
      "\u001b[0;31m---------------------------------------------------------------------------\u001b[0m",
      "\u001b[0;31mTypeError\u001b[0m                                 Traceback (most recent call last)",
      "Cell \u001b[0;32mIn[45], line 19\u001b[0m\n\u001b[1;32m     16\u001b[0m \u001b[38;5;28mprint\u001b[39m(\u001b[38;5;28mmax\u001b[39m(courses))\u001b[38;5;66;03m# it gives us the maximum value \u001b[39;00m\n\u001b[1;32m     18\u001b[0m courses\u001b[38;5;241m=\u001b[39m[\u001b[38;5;124m'\u001b[39m\u001b[38;5;124maiml\u001b[39m\u001b[38;5;124m'\u001b[39m, \u001b[38;5;124m'\u001b[39m\u001b[38;5;124mcse\u001b[39m\u001b[38;5;124m'\u001b[39m, \u001b[38;5;124m'\u001b[39m\u001b[38;5;124mece\u001b[39m\u001b[38;5;124m'\u001b[39m, \u001b[38;5;124m'\u001b[39m\u001b[38;5;124mmech\u001b[39m\u001b[38;5;124m'\u001b[39m]\n\u001b[0;32m---> 19\u001b[0m \u001b[38;5;28mprint\u001b[39m(\u001b[38;5;28msum\u001b[39m(courses))\n",
      "\u001b[0;31mTypeError\u001b[0m: unsupported operand type(s) for +: 'int' and 'str'"
     ]
    }
   ],
   "source": [
    "#min,max,sum methods for the list \n",
    "courses=[1,3,5,7,13]\n",
    "print(min(courses)) # it gives us the minimum value \n",
    "\n",
    "courses=[1,3,5,7,13]\n",
    "print(max(courses))# it gives us the maximum value \n",
    "\n",
    "courses=[1,3,5,7,13]\n",
    "print(sum(courses)) #it gives us the sum of value \n",
    "\n",
    "#for strings \n",
    "courses=['aiml', 'cse', 'ece', 'mech']\n",
    "print(min(courses)) # it gives us the minimum value \n",
    "\n",
    "courses=['aiml', 'cse', 'ece', 'mech']\n",
    "print(max(courses))# it gives us the maximum value \n",
    "\n",
    "courses=['aiml', 'cse', 'ece', 'mech']\n",
    "print(sum(courses)) #the sum usage here is not possible as it gives error and it dont make any sense to add"
   ]
  },
  {
   "cell_type": "code",
   "execution_count": 49,
   "id": "757089a1",
   "metadata": {},
   "outputs": [
    {
     "name": "stdout",
     "output_type": "stream",
     "text": [
      "1\n",
      "True\n"
     ]
    }
   ],
   "source": [
    "#for finding the index of the particular item \n",
    "courses=['aiml', 'cse', 'ece', 'mech']\n",
    "print(courses.index('cse'))\n",
    "\n",
    "#if the item is not present it gives the value error\n",
    "\n",
    "#for checking if the item is present in the list \n",
    "courses=['aiml', 'cse', 'ece', 'mech']\n",
    "print('ece' in courses)#it is helpful during conditional statement "
   ]
  },
  {
   "cell_type": "code",
   "execution_count": 54,
   "id": "ce93b9bf",
   "metadata": {},
   "outputs": [
    {
     "name": "stdout",
     "output_type": "stream",
     "text": [
      "aiml\n",
      "cse\n",
      "ece\n",
      "mech\n",
      "0 aiml\n",
      "1 cse\n",
      "2 ece\n",
      "3 mech\n",
      "1 jai\n",
      "2 abhi\n",
      "3 bhagesh\n"
     ]
    }
   ],
   "source": [
    "#for looping the values of our list\n",
    "courses=['aiml', 'cse', 'ece', 'mech']\n",
    "for item in courses:\n",
    "    print(item)\n",
    "    \n",
    "#for looping the values with index of our list\n",
    "courses=['aiml', 'cse', 'ece', 'mech']\n",
    "for index,item in enumerate(courses):\n",
    "    print(index,item)\n",
    "    \n",
    "#to start the index and value with a particular value\n",
    "name=['jai','abhi','bhagesh']\n",
    "for index,item in enumerate(name,start=1):\n",
    "    print(index,item)"
   ]
  }
 ],
 "metadata": {
  "kernelspec": {
   "display_name": "Python 3 (ipykernel)",
   "language": "python",
   "name": "python3"
  },
  "language_info": {
   "codemirror_mode": {
    "name": "ipython",
    "version": 3
   },
   "file_extension": ".py",
   "mimetype": "text/x-python",
   "name": "python",
   "nbconvert_exporter": "python",
   "pygments_lexer": "ipython3",
   "version": "3.11.4"
  }
 },
 "nbformat": 4,
 "nbformat_minor": 5
}
