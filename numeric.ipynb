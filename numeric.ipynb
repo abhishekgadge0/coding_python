{
 "cells": [
  {
   "cell_type": "markdown",
   "id": "668b8157",
   "metadata": {},
   "source": [
    "Integers and Floats - Working with Numeric Data"
   ]
  },
  {
   "cell_type": "code",
   "execution_count": 3,
   "id": "cd68d46a",
   "metadata": {},
   "outputs": [
    {
     "name": "stdout",
     "output_type": "stream",
     "text": [
      "<class 'float'>\n"
     ]
    }
   ],
   "source": [
    "#finding the type of data \n",
    "num=3.3\n",
    "print(type(num))"
   ]
  },
  {
   "cell_type": "code",
   "execution_count": 6,
   "id": "592b476e",
   "metadata": {},
   "outputs": [
    {
     "name": "stdout",
     "output_type": "stream",
     "text": [
      "5\n",
      "1\n",
      "6\n",
      "1.5\n",
      "1\n",
      "9\n",
      "1\n"
     ]
    }
   ],
   "source": [
    "#arithmatic operators \n",
    "print(3+2) #addition\n",
    "print(3-2) #subtraction\n",
    "print(3*2) #multiplication\n",
    "print(3/2) #division\n",
    "print(3//2)#floor division\n",
    "print(3**2)#exponent\n",
    "print(3%2) #modulus "
   ]
  },
  {
   "cell_type": "code",
   "execution_count": 7,
   "id": "03b6f41d",
   "metadata": {
    "scrolled": true
   },
   "outputs": [
    {
     "name": "stdout",
     "output_type": "stream",
     "text": [
      "1\n",
      "0\n",
      "1\n",
      "1\n",
      "0\n"
     ]
    }
   ],
   "source": [
    "# modulus is specially used in finding the odd or even nature of the number \n",
    "print(3%2)  #1\n",
    "print(4%2)  #0\n",
    "print(5%2)  #1\n",
    "print(9%2)  #1\n",
    "print(314%2)#0\n",
    "#we can see the remainder is always 0 or 1 i.e, odd or even "
   ]
  },
  {
   "cell_type": "code",
   "execution_count": 9,
   "id": "b104737a",
   "metadata": {},
   "outputs": [
    {
     "data": {
      "text/plain": [
       "26.57142857142857"
      ]
     },
     "execution_count": 9,
     "metadata": {},
     "output_type": "execute_result"
    }
   ],
   "source": [
    "# Order of operations\n",
    "#1.paranthesis ()\n",
    "#2.Exponents\n",
    "#3.Multiplication or Division\n",
    "#4.Addition or Subtraction\n",
    "#all order of operation should be done from left to right \n",
    "3*4-3/7+(3**2+6)"
   ]
  },
  {
   "cell_type": "code",
   "execution_count": 12,
   "id": "5ac36b1e",
   "metadata": {},
   "outputs": [
    {
     "name": "stdout",
     "output_type": "stream",
     "text": [
      "2\n",
      "2\n",
      "20\n"
     ]
    }
   ],
   "source": [
    "#incrementing value\n",
    "\n",
    "#method 1(traditional method)\n",
    "num=1\n",
    "num=num+1\n",
    "print(num)\n",
    "\n",
    "#method 2(new way)\n",
    "num=1\n",
    "num+=1\n",
    "print(num)\n",
    "\n",
    "#we can do same even with multiple\n",
    "num=2\n",
    "num*=10\n",
    "print(num)"
   ]
  },
  {
   "cell_type": "code",
   "execution_count": 16,
   "id": "e89ee5ae",
   "metadata": {},
   "outputs": [
    {
     "name": "stdout",
     "output_type": "stream",
     "text": [
      "2\n",
      "4\n",
      "3.8\n"
     ]
    }
   ],
   "source": [
    "#some inbuild funt \n",
    "print(abs(-2)) #prints the absolute value \n",
    "print(round(3.75)) #prints the rounded value \n",
    "print(round(3.75,1)) #the second argument here is actually the number to which we want to round "
   ]
  },
  {
   "cell_type": "code",
   "execution_count": 17,
   "id": "9caa0d6d",
   "metadata": {},
   "outputs": [
    {
     "name": "stdout",
     "output_type": "stream",
     "text": [
      "False\n",
      "True\n",
      "True\n",
      "False\n",
      "True\n",
      "False\n"
     ]
    }
   ],
   "source": [
    "#comparision operators \n",
    "print(3==2) #equal \n",
    "print(3!=2) #not equal\n",
    "print(3>2)  #greater than \n",
    "print(3<2)  #less than \n",
    "print(3>=2) #greater or equal\n",
    "print(3<=2) #less or equal"
   ]
  },
  {
   "cell_type": "code",
   "execution_count": 20,
   "id": "594be141",
   "metadata": {},
   "outputs": [
    {
     "name": "stdout",
     "output_type": "stream",
     "text": [
      "False\n",
      "True\n",
      "True\n",
      "False\n",
      "True\n",
      "False\n"
     ]
    }
   ],
   "source": [
    "num1=3\n",
    "num2=2\n",
    "print(num1==num2)\n",
    "print(num1!=num2)\n",
    "print(num1>num2)\n",
    "print(num1<num2)\n",
    "print(num1>=num2)\n",
    "print(num1<=num2)"
   ]
  },
  {
   "cell_type": "code",
   "execution_count": 23,
   "id": "97bac56d",
   "metadata": {},
   "outputs": [
    {
     "name": "stdout",
     "output_type": "stream",
     "text": [
      "100200\n",
      "300\n"
     ]
    }
   ],
   "source": [
    "#parathesis makes it string \n",
    "num_1='100'\n",
    "num_2='200'\n",
    "print(num_1+num_2)\n",
    "#it gives us the cocatination value that is wrong \n",
    "\n",
    "#to solve this problem we can use casting \n",
    "num_1='100'\n",
    "num_2='200'\n",
    "num_1=int(num_1) #converts it to the int \n",
    "num_2=int(num_2) #converts it to the int \n",
    "print(num_1+num_2)"
   ]
  }
 ],
 "metadata": {
  "kernelspec": {
   "display_name": "Python 3 (ipykernel)",
   "language": "python",
   "name": "python3"
  },
  "language_info": {
   "codemirror_mode": {
    "name": "ipython",
    "version": 3
   },
   "file_extension": ".py",
   "mimetype": "text/x-python",
   "name": "python",
   "nbconvert_exporter": "python",
   "pygments_lexer": "ipython3",
   "version": "3.11.4"
  }
 },
 "nbformat": 4,
 "nbformat_minor": 5
}
